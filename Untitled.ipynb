{
 "cells": [
  {
   "cell_type": "markdown",
   "id": "41893f64",
   "metadata": {},
   "source": [
    "# Spark Lesson\n",
    "\n",
    "07 mars 2023"
   ]
  },
  {
   "cell_type": "markdown",
   "id": "d7258e54",
   "metadata": {},
   "source": [
    "Spark is built on Java virtual machine, which is written in Scala.  \n",
    "\n",
    "Client libraries : pyspark, SparkR, etc.  \n",
    "\n",
    "Architecture : Driver, cluster manager / master, executor.\n",
    "\n",
    "Driver : laptop (python// master : jmv / spark // then sends out work to executors & data partitions.\n",
    "\n",
    "Summary (tabular) exploratinon is possible, but visual exploration needs to be exported out and done in pandas.\n",
    "\n",
    "Transformations (function to select a subset of data, trasnforms each values, does some sort of aggregation)   \n",
    "vs   \n",
    "Actions [get immediate output : asks for something specific to be done, ie, counting the number of rows, viewing the first 10 records : string together things that need to be done (ie, methods), and Spark figures out how to do it]."
   ]
  },
  {
   "cell_type": "code",
   "execution_count": null,
   "id": "7cf7f805",
   "metadata": {},
   "outputs": [],
   "source": [
    "x = 123"
   ]
  },
  {
   "cell_type": "code",
   "execution_count": null,
   "id": "453d8987",
   "metadata": {},
   "outputs": [],
   "source": []
  },
  {
   "cell_type": "code",
   "execution_count": null,
   "id": "7efcc1fe",
   "metadata": {},
   "outputs": [],
   "source": []
  }
 ],
 "metadata": {
  "kernelspec": {
   "display_name": "Python 3 (ipykernel)",
   "language": "python",
   "name": "python3"
  },
  "language_info": {
   "codemirror_mode": {
    "name": "ipython",
    "version": 3
   },
   "file_extension": ".py",
   "mimetype": "text/x-python",
   "name": "python",
   "nbconvert_exporter": "python",
   "pygments_lexer": "ipython3",
   "version": "3.9.13"
  }
 },
 "nbformat": 4,
 "nbformat_minor": 5
}
