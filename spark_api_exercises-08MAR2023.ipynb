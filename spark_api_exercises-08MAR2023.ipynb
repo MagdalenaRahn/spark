{
 "cells": [
  {
   "cell_type": "code",
   "execution_count": 91,
   "id": "23b41a5b",
   "metadata": {},
   "outputs": [],
   "source": [
    "# imports\n",
    "\n",
    "import pyspark\n",
    "\n",
    "import pandas as pd\n",
    "import numpy as np\n",
    "\n",
    "from pydataset import data\n",
    "\n",
    "from pyspark.sql.functions import col, expr, concat_ws\n",
    "\n",
    "from pyspark.sql.functions import concat, sum, avg, min, max, count, mean, isnan\n",
    "\n",
    "from pyspark.sql.functions import lit\n",
    "\n",
    "from pyspark.sql.functions import regexp_extract, regexp_replace\n",
    "\n",
    "from pyspark.sql.functions import when\n",
    "\n",
    "from pyspark.sql.functions import asc, desc\n",
    "\n",
    "from pyspark.sql.functions import month, year, quarter\n",
    "\n"
   ]
  },
  {
   "cell_type": "markdown",
   "id": "fb6a7386",
   "metadata": {},
   "source": [
    "## 1 / Create a spark data frame that contains your favorite programming languages.\n",
    "\n",
    "The name of the column should be ```language```  \n",
    "View the schema of the dataframe  \n",
    "Output the shape of the dataframe  \n",
    "Show the first 5 records in the dataframe  \n",
    "\n"
   ]
  },
  {
   "cell_type": "code",
   "execution_count": 3,
   "id": "acbac200",
   "metadata": {},
   "outputs": [
    {
     "name": "stderr",
     "output_type": "stream",
     "text": [
      "Setting default log level to \"WARN\".\n",
      "To adjust logging level use sc.setLogLevel(newLevel). For SparkR, use setLogLevel(newLevel).\n"
     ]
    },
    {
     "name": "stdout",
     "output_type": "stream",
     "text": [
      "23/03/08 09:13:56 WARN NativeCodeLoader: Unable to load native-hadoop library for your platform... using builtin-java classes where applicable\n"
     ]
    }
   ],
   "source": [
    "# create spark object (using the SQL-based commands)\n",
    "\n",
    "spark = pyspark.sql.SparkSession.builder.getOrCreate()\n"
   ]
  },
  {
   "cell_type": "code",
   "execution_count": 37,
   "id": "98283f29",
   "metadata": {},
   "outputs": [
    {
     "name": "stdout",
     "output_type": "stream",
     "text": [
      "+--------+\n",
      "|language|\n",
      "+--------+\n",
      "|  Python|\n",
      "|    蟒蛇|\n",
      "|     SQL|\n",
      "|   Spark|\n",
      "|    Ruby|\n",
      "|    Rust|\n",
      "|       R|\n",
      "|    HTML|\n",
      "|     C++|\n",
      "+--------+\n",
      "\n",
      "+--------+\n",
      "|language|\n",
      "+--------+\n",
      "|  Python|\n",
      "|    蟒蛇|\n",
      "|     SQL|\n",
      "|   Spark|\n",
      "|    Ruby|\n",
      "+--------+\n",
      "only showing top 5 rows\n",
      "\n"
     ]
    },
    {
     "data": {
      "text/plain": [
       "(None, None)"
      ]
     },
     "execution_count": 37,
     "metadata": {},
     "output_type": "execute_result"
    }
   ],
   "source": [
    "columns = ['language']\n",
    "data = ['Python', '蟒蛇', 'SQL', 'Spark', 'Ruby', 'Rust', 'R', 'HTML', 'C++']\n",
    "\n",
    "# make pandas df\n",
    "p = pd.DataFrame({'language': data})\n",
    "\n",
    "# make spark df\n",
    "langs_df = spark.createDataFrame(p)\n",
    "\n",
    "\n",
    "\n",
    "# df = spark.createDataFrame(\n",
    "#     pd.DataFrame(\n",
    "#         {\"x\": [1, 2, np.nan, 4, 5, np.nan], \"y\": [np.nan, 0, 0, 3, 1, np.nan]}\n",
    "#     )\n",
    "# )\n",
    "# df.show()\n",
    "\n",
    "langs_df.show(), langs_df.show(5)"
   ]
  },
  {
   "cell_type": "code",
   "execution_count": 35,
   "id": "2cad2054",
   "metadata": {},
   "outputs": [
    {
     "name": "stdout",
     "output_type": "stream",
     "text": [
      "(9, 1)\n",
      "\n",
      "root\n",
      " |-- language: string (nullable = true)\n",
      "\n"
     ]
    }
   ],
   "source": [
    "# size\n",
    "print((langs_df.count(), len(langs_df.columns)))\n",
    "\n",
    "print()\n",
    "\n",
    "# schema\n",
    "langs_df.printSchema()"
   ]
  },
  {
   "cell_type": "markdown",
   "id": "961c0950",
   "metadata": {},
   "source": [
    "## 2 / Load the mpg dataset as a spark dataframe.\n",
    "\n",
    "Create 1 column of output that contains a message like :\n",
    "\n",
    "```The 1999 audi a4 has a 4-cylinder engine.``` for each vehicle.\n",
    "\n",
    "Transform the trans column so that it only contains either manual or auto.\n"
   ]
  },
  {
   "cell_type": "code",
   "execution_count": 41,
   "id": "5a3b4b2c",
   "metadata": {},
   "outputs": [],
   "source": [
    "# load mpg dataset\n",
    "\n",
    "mpg = spark.createDataFrame(data(\"mpg\"))\n"
   ]
  },
  {
   "cell_type": "code",
   "execution_count": 42,
   "id": "466f3af6",
   "metadata": {},
   "outputs": [
    {
     "name": "stdout",
     "output_type": "stream",
     "text": [
      "+------------+-----+-----+----+---+----------+---+---+---+---+-------+\n",
      "|manufacturer|model|displ|year|cyl|     trans|drv|cty|hwy| fl|  class|\n",
      "+------------+-----+-----+----+---+----------+---+---+---+---+-------+\n",
      "|        audi|   a4|  1.8|1999|  4|  auto(l5)|  f| 18| 29|  p|compact|\n",
      "|        audi|   a4|  1.8|1999|  4|manual(m5)|  f| 21| 29|  p|compact|\n",
      "|        audi|   a4|  2.0|2008|  4|manual(m6)|  f| 20| 31|  p|compact|\n",
      "+------------+-----+-----+----+---+----------+---+---+---+---+-------+\n",
      "only showing top 3 rows\n",
      "\n"
     ]
    }
   ],
   "source": [
    "# show df\n",
    "\n",
    "mpg.show(3)"
   ]
  },
  {
   "cell_type": "code",
   "execution_count": 51,
   "id": "1cb78a05",
   "metadata": {
    "scrolled": true
   },
   "outputs": [
    {
     "name": "stdout",
     "output_type": "stream",
     "text": [
      "+-----------------------------------------+\n",
      "|phrase                                   |\n",
      "+-----------------------------------------+\n",
      "|The 1999 audi a4 has a 4-cylinder engine.|\n",
      "|The 1999 audi a4 has a 4-cylinder engine.|\n",
      "|The 2008 audi a4 has a 4-cylinder engine.|\n",
      "|The 2008 audi a4 has a 4-cylinder engine.|\n",
      "|The 1999 audi a4 has a 6-cylinder engine.|\n",
      "|The 1999 audi a4 has a 6-cylinder engine.|\n",
      "|The 2008 audi a4 has a 6-cylinder engine.|\n",
      "+-----------------------------------------+\n",
      "only showing top 7 rows\n",
      "\n"
     ]
    }
   ],
   "source": [
    "# create phrase\n",
    "\n",
    "a = 'The '\n",
    "b = 'has a '\n",
    "c = '-cylinder engine.'\n",
    "\n",
    "mpg.select(concat(lit(f'{a}'), mpg.year, lit(f' '), mpg.manufacturer, lit(f' '),\n",
    "                  mpg.model, lit(f' '), lit(f'{b}'), mpg.cyl, \n",
    "                  lit(f'{c}')).alias('phrase')).show(7, truncate = False)"
   ]
  },
  {
   "cell_type": "code",
   "execution_count": 95,
   "id": "eb943b4e",
   "metadata": {},
   "outputs": [
    {
     "name": "stdout",
     "output_type": "stream",
     "text": [
      "+--------+\n",
      "|       s|\n",
      "+--------+\n",
      "|1999-*-4|\n",
      "|1999-*-4|\n",
      "|2008-*-4|\n",
      "+--------+\n",
      "only showing top 3 rows\n",
      "\n"
     ]
    }
   ],
   "source": [
    "# / # Concatenates multiple input string columns together \n",
    "# into a single string column, using the given separator.\n",
    "\n",
    "\n",
    "mpg.select(concat_ws('-*-', mpg.year, mpg.cyl).alias('s')).show(3)\n",
    "\n",
    "# NB : adding .collect() to the end of a phrase instead of .show() shows all\n"
   ]
  },
  {
   "cell_type": "code",
   "execution_count": null,
   "id": "78b789a9",
   "metadata": {},
   "outputs": [],
   "source": []
  },
  {
   "cell_type": "code",
   "execution_count": 56,
   "id": "7342e857",
   "metadata": {},
   "outputs": [
    {
     "name": "stdout",
     "output_type": "stream",
     "text": [
      "+----------+\n",
      "|     trans|\n",
      "+----------+\n",
      "|  auto(l5)|\n",
      "|manual(m5)|\n",
      "|manual(m6)|\n",
      "+----------+\n",
      "only showing top 3 rows\n",
      "\n"
     ]
    }
   ],
   "source": [
    "# look at 'trans' col\n",
    "\n",
    "mpg.select(mpg.trans).show(3)\n"
   ]
  },
  {
   "cell_type": "code",
   "execution_count": 85,
   "id": "cdd49ee1",
   "metadata": {},
   "outputs": [
    {
     "name": "stdout",
     "output_type": "stream",
     "text": [
      "+------------+-----+-----+----+---+-----+---+---+---+---+-----+\n",
      "|manufacturer|model|displ|year|cyl|trans|drv|cty|hwy| fl|class|\n",
      "+------------+-----+-----+----+---+-----+---+---+---+---+-----+\n",
      "|         234|  234|  234| 234|234|  234|234|234|234|234|  234|\n",
      "+------------+-----+-----+----+---+-----+---+---+---+---+-----+\n",
      "\n"
     ]
    }
   ],
   "source": [
    "\n",
    "mpg.select([count(when(col(c).isNotNull() , c)).alias(c) for c in mpg.columns]\n",
    "   ).show()"
   ]
  },
  {
   "cell_type": "code",
   "execution_count": 84,
   "id": "d06710dd",
   "metadata": {},
   "outputs": [
    {
     "name": "stdout",
     "output_type": "stream",
     "text": [
      "+------------+-----+-----+----+---+-----+---+---+---+---+-----+\n",
      "|manufacturer|model|displ|year|cyl|trans|drv|cty|hwy| fl|class|\n",
      "+------------+-----+-----+----+---+-----+---+---+---+---+-----+\n",
      "|         234|  234|  234| 234|234|  234|234|234|234|234|  234|\n",
      "+------------+-----+-----+----+---+-----+---+---+---+---+-----+\n",
      "\n"
     ]
    }
   ],
   "source": [
    "\n",
    "mpg.select([count(when(col(\"trans\").isNotNull() , c)).alias(c) for c in mpg.columns]\n",
    "   ).show()"
   ]
  }
 ],
 "metadata": {
  "kernelspec": {
   "display_name": "Python 3 (ipykernel)",
   "language": "python",
   "name": "python3"
  },
  "language_info": {
   "codemirror_mode": {
    "name": "ipython",
    "version": 3
   },
   "file_extension": ".py",
   "mimetype": "text/x-python",
   "name": "python",
   "nbconvert_exporter": "python",
   "pygments_lexer": "ipython3",
   "version": "3.9.13"
  }
 },
 "nbformat": 4,
 "nbformat_minor": 5
}
